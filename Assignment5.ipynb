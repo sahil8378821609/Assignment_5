{
 "cells": [
  {
   "cell_type": "code",
   "execution_count": 37,
   "id": "7905acd8-5f78-4b8c-871b-73e4642e26fb",
   "metadata": {},
   "outputs": [],
   "source": [
    "import pandas as pd\n",
    "from sklearn.model_selection import train_test_split\n",
    "from sklearn.preprocessing import LabelEncoder, StandardScaler"
   ]
  },
  {
   "cell_type": "code",
   "execution_count": 9,
   "id": "46985028-81f5-4d64-9d66-23ed0120d92f",
   "metadata": {},
   "outputs": [],
   "source": [
    "df=pd.read_csv('C:/Users/ML/Downloads/data_date.csv')"
   ]
  },
  {
   "cell_type": "code",
   "execution_count": 55,
   "id": "d2f65ebe-dcb5-4d49-9205-6ebd42ab9970",
   "metadata": {},
   "outputs": [
    {
     "data": {
      "text/html": [
       "<div>\n",
       "<style scoped>\n",
       "    .dataframe tbody tr th:only-of-type {\n",
       "        vertical-align: middle;\n",
       "    }\n",
       "\n",
       "    .dataframe tbody tr th {\n",
       "        vertical-align: top;\n",
       "    }\n",
       "\n",
       "    .dataframe thead th {\n",
       "        text-align: right;\n",
       "    }\n",
       "</style>\n",
       "<table border=\"1\" class=\"dataframe\">\n",
       "  <thead>\n",
       "    <tr style=\"text-align: right;\">\n",
       "      <th></th>\n",
       "      <th>Date</th>\n",
       "      <th>Country</th>\n",
       "      <th>Status</th>\n",
       "      <th>AQI Value</th>\n",
       "    </tr>\n",
       "  </thead>\n",
       "  <tbody>\n",
       "    <tr>\n",
       "      <th>0</th>\n",
       "      <td>2022-07-21</td>\n",
       "      <td>Albania</td>\n",
       "      <td>Good</td>\n",
       "      <td>14</td>\n",
       "    </tr>\n",
       "    <tr>\n",
       "      <th>1</th>\n",
       "      <td>2022-07-21</td>\n",
       "      <td>Algeria</td>\n",
       "      <td>Moderate</td>\n",
       "      <td>65</td>\n",
       "    </tr>\n",
       "    <tr>\n",
       "      <th>2</th>\n",
       "      <td>2022-07-21</td>\n",
       "      <td>Andorra</td>\n",
       "      <td>Moderate</td>\n",
       "      <td>55</td>\n",
       "    </tr>\n",
       "    <tr>\n",
       "      <th>3</th>\n",
       "      <td>2022-07-21</td>\n",
       "      <td>Angola</td>\n",
       "      <td>Unhealthy for Sensitive Groups</td>\n",
       "      <td>113</td>\n",
       "    </tr>\n",
       "    <tr>\n",
       "      <th>4</th>\n",
       "      <td>2022-07-21</td>\n",
       "      <td>Argentina</td>\n",
       "      <td>Moderate</td>\n",
       "      <td>63</td>\n",
       "    </tr>\n",
       "    <tr>\n",
       "      <th>...</th>\n",
       "      <td>...</td>\n",
       "      <td>...</td>\n",
       "      <td>...</td>\n",
       "      <td>...</td>\n",
       "    </tr>\n",
       "    <tr>\n",
       "      <th>15685</th>\n",
       "      <td>2024-10-17</td>\n",
       "      <td>United States of America</td>\n",
       "      <td>Unhealthy for Sensitive Groups</td>\n",
       "      <td>106</td>\n",
       "    </tr>\n",
       "    <tr>\n",
       "      <th>15686</th>\n",
       "      <td>2024-10-17</td>\n",
       "      <td>Uzbekistan</td>\n",
       "      <td>Unhealthy</td>\n",
       "      <td>195</td>\n",
       "    </tr>\n",
       "    <tr>\n",
       "      <th>15687</th>\n",
       "      <td>2024-10-17</td>\n",
       "      <td>Vatican</td>\n",
       "      <td>Good</td>\n",
       "      <td>42</td>\n",
       "    </tr>\n",
       "    <tr>\n",
       "      <th>15688</th>\n",
       "      <td>2024-10-17</td>\n",
       "      <td>Venezuela</td>\n",
       "      <td>Moderate</td>\n",
       "      <td>51</td>\n",
       "    </tr>\n",
       "    <tr>\n",
       "      <th>15689</th>\n",
       "      <td>2024-10-17</td>\n",
       "      <td>Vietnam</td>\n",
       "      <td>Moderate</td>\n",
       "      <td>66</td>\n",
       "    </tr>\n",
       "  </tbody>\n",
       "</table>\n",
       "<p>15690 rows × 4 columns</p>\n",
       "</div>"
      ],
      "text/plain": [
       "             Date                   Country                          Status  \\\n",
       "0      2022-07-21                   Albania                            Good   \n",
       "1      2022-07-21                   Algeria                        Moderate   \n",
       "2      2022-07-21                   Andorra                        Moderate   \n",
       "3      2022-07-21                    Angola  Unhealthy for Sensitive Groups   \n",
       "4      2022-07-21                 Argentina                        Moderate   \n",
       "...           ...                       ...                             ...   \n",
       "15685  2024-10-17  United States of America  Unhealthy for Sensitive Groups   \n",
       "15686  2024-10-17                Uzbekistan                       Unhealthy   \n",
       "15687  2024-10-17                   Vatican                            Good   \n",
       "15688  2024-10-17                 Venezuela                        Moderate   \n",
       "15689  2024-10-17                   Vietnam                        Moderate   \n",
       "\n",
       "       AQI Value  \n",
       "0             14  \n",
       "1             65  \n",
       "2             55  \n",
       "3            113  \n",
       "4             63  \n",
       "...          ...  \n",
       "15685        106  \n",
       "15686        195  \n",
       "15687         42  \n",
       "15688         51  \n",
       "15689         66  \n",
       "\n",
       "[15690 rows x 4 columns]"
      ]
     },
     "execution_count": 55,
     "metadata": {},
     "output_type": "execute_result"
    }
   ],
   "source": [
    "df"
   ]
  },
  {
   "cell_type": "code",
   "execution_count": 21,
   "id": "1355acd0-23fd-48d4-be94-acdc59e55c96",
   "metadata": {},
   "outputs": [],
   "source": [
    "data_cleaned=df.dropna()"
   ]
  },
  {
   "cell_type": "code",
   "execution_count": 23,
   "id": "fd3b3afa-5b6c-4110-a717-6c16ae38de85",
   "metadata": {},
   "outputs": [],
   "source": [
    "data_cleaned['Date'] = pd.to_datetime(data_cleaned['Date'])"
   ]
  },
  {
   "cell_type": "code",
   "execution_count": 25,
   "id": "25b58237-ec8d-41e3-bd5c-ae8198fd281e",
   "metadata": {},
   "outputs": [],
   "source": [
    "data_cleaned['Year'] = data_cleaned['Date'].dt.year\n",
    "data_cleaned['Month'] = data_cleaned['Date'].dt.month\n",
    "data_cleaned['Day'] = data_cleaned['Date'].dt.day"
   ]
  },
  {
   "cell_type": "code",
   "execution_count": 27,
   "id": "8da9eb2f-fab9-445d-b918-7e363278fc6b",
   "metadata": {},
   "outputs": [],
   "source": [
    "data_cleaned = data_cleaned.drop(columns=['Date'])"
   ]
  },
  {
   "cell_type": "code",
   "execution_count": 41,
   "id": "927eb88e-dc65-49a7-8203-86ac76da1bd0",
   "metadata": {},
   "outputs": [],
   "source": [
    "label_encoder_country = LabelEncoder()\n",
    "label_encoder_status = LabelEncoder()"
   ]
  },
  {
   "cell_type": "code",
   "execution_count": 43,
   "id": "659b4604-6572-4db8-8539-b40a80e91a85",
   "metadata": {},
   "outputs": [],
   "source": [
    "data_cleaned['Country'] = label_encoder_country.fit_transform(data_cleaned['Country'])\n",
    "data_cleaned['Status'] = label_encoder_status.fit_transform(data_cleaned['Status'])"
   ]
  },
  {
   "cell_type": "code",
   "execution_count": 45,
   "id": "ce156caf-4f94-49cb-9e36-3163b55c48ad",
   "metadata": {},
   "outputs": [],
   "source": [
    "scaler = StandardScaler()\n",
    "data_cleaned['AQI Value'] = scaler.fit_transform(data_cleaned[['AQI Value']])"
   ]
  },
  {
   "cell_type": "code",
   "execution_count": 47,
   "id": "7ee0acc0-002f-4647-9f85-dbde93606b76",
   "metadata": {},
   "outputs": [],
   "source": [
    "X = data_cleaned.drop(columns=['AQI Value'])\n",
    "y = data_cleaned['AQI Value']"
   ]
  },
  {
   "cell_type": "code",
   "execution_count": 49,
   "id": "79d43e36-e7dc-431a-a9b9-c655ee0effe6",
   "metadata": {},
   "outputs": [],
   "source": [
    "# Split the data into training and testing sets (80% training, 20% testing)\n",
    "X_train, X_test, y_train, y_test = train_test_split(X, y, test_size=0.2, random_state=42)"
   ]
  },
  {
   "cell_type": "raw",
   "id": "4501cbb6-1e0e-4d82-b06d-c9253a47f6c2",
   "metadata": {},
   "source": [
    "# Display the first few rows of the cleaned and preprocessed data\n",
    "print(data_cleaned.head())"
   ]
  },
  {
   "cell_type": "code",
   "execution_count": 53,
   "id": "4007654e-3d69-481b-83ef-648e5ad232d7",
   "metadata": {},
   "outputs": [
    {
     "name": "stdout",
     "output_type": "stream",
     "text": [
      "       Country  Status  AQI Value  Year  Month  Day\n",
      "0            0       0  -0.983348  2022      7   21\n",
      "1            1       2   0.069341  2022      7   21\n",
      "2            2       2  -0.137068  2022      7   21\n",
      "3            3       4   1.060108  2022      7   21\n",
      "4            4       2   0.028059  2022      7   21\n",
      "...        ...     ...        ...   ...    ...  ...\n",
      "15685      136       4   0.915621  2024     10   17\n",
      "15686      137       3   2.752667  2024     10   17\n",
      "15687      138       0  -0.405401  2024     10   17\n",
      "15688      139       2  -0.219632  2024     10   17\n",
      "15689      140       2   0.089982  2024     10   17\n",
      "\n",
      "[15690 rows x 6 columns]\n"
     ]
    }
   ],
   "source": [
    "print(data_cleaned)"
   ]
  },
  {
   "cell_type": "code",
   "execution_count": null,
   "id": "d9655927-1a0a-405a-afa2-0763e79de15a",
   "metadata": {},
   "outputs": [],
   "source": []
  }
 ],
 "metadata": {
  "kernelspec": {
   "display_name": "Python 3 (ipykernel)",
   "language": "python",
   "name": "python3"
  },
  "language_info": {
   "codemirror_mode": {
    "name": "ipython",
    "version": 3
   },
   "file_extension": ".py",
   "mimetype": "text/x-python",
   "name": "python",
   "nbconvert_exporter": "python",
   "pygments_lexer": "ipython3",
   "version": "3.12.4"
  }
 },
 "nbformat": 4,
 "nbformat_minor": 5
}
